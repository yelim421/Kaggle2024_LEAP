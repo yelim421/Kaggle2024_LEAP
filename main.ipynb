{
 "cells": [
  {
   "cell_type": "code",
   "execution_count": 1,
   "metadata": {},
   "outputs": [],
   "source": [
    "import time\n",
    "import argparse\n",
    "import logging\n",
    "import torch\n",
    "import os\n",
    "\n",
    "from utils_copy import load_config, setup_logging, log_hyperparameters, seed_everything, activate_kaggle_user # dont touch\n",
    "from load_data import load_train, normalization\n",
    "\n",
    "from train import train_model\n",
    "from test_new import test_model"
   ]
  },
  {
   "cell_type": "code",
   "execution_count": 2,
   "metadata": {},
   "outputs": [
    {
     "name": "stderr",
     "output_type": "stream",
     "text": [
      "2024-06-24 21:02:06,369 - -----------------------------------------------------------------------------\n",
      "2024-06-24 21:02:06,369 - Hyperparameters:\n",
      "2024-06-24 21:02:06,369 - BATCH_SIZE: 1024\n",
      "2024-06-24 21:02:06,370 - MIN_STD: 1e-8\n",
      "2024-06-24 21:02:06,370 - SCHEDULER_PATIENCE: 3\n",
      "2024-06-24 21:02:06,370 - SCHEDULER_FACTOR: 0.316\n",
      "2024-06-24 21:02:06,371 - EPOCHS: 100\n",
      "2024-06-24 21:02:06,371 - PATIENCE: 6\n",
      "2024-06-24 21:02:06,372 - PRINT_FREQ: 2100\n",
      "2024-06-24 21:02:06,372 - MODEL_PATH: FFNN_100.pth\n",
      "2024-06-24 21:02:06,372 - LEARNING_RATE: 0.001\n",
      "2024-06-24 21:02:06,373 - WEIGHT_DECAY: 0.01\n"
     ]
    },
    {
     "name": "stdout",
     "output_type": "stream",
     "text": [
      "Activated Kaggle user: limkim\n",
      "time to read dataset: 0:00:16\n",
      "am i using gpu? : cuda:0\n",
      "Time after all preparations: 0:00:49\n",
      " \n"
     ]
    },
    {
     "name": "stderr",
     "output_type": "stream",
     "text": [
      "2024-06-24 21:05:46,388 - ('  Epoch: 1', '  Batch: 2100/2198', '  Train Loss: 0.7227', '  LR: 1.0e-03', '  Time: 0:03:40')\n",
      "2024-06-24 21:06:10,803 - \n",
      "Epoch: 1  Val Loss: 0.6335  R2 score: 0.2891\n",
      "2024-06-24 21:06:10,804 - Validation loss decreased, saving new best model and resetting patience counter.\n"
     ]
    },
    {
     "name": "stdout",
     "output_type": "stream",
     "text": [
      "93 targets were excluded during evaluation of R2 score.\n",
      " \n"
     ]
    },
    {
     "name": "stderr",
     "output_type": "stream",
     "text": [
      "2024-06-24 21:08:47,204 - ('  Epoch: 2', '  Batch: 2100/2198', '  Train Loss: 0.6275', '  LR: 1.0e-03', '  Time: 0:06:41')\n",
      "2024-06-24 21:09:11,402 - \n",
      "Epoch: 2  Val Loss: 0.6028  R2 score: 0.3273\n",
      "2024-06-24 21:09:11,403 - Validation loss decreased, saving new best model and resetting patience counter.\n"
     ]
    },
    {
     "name": "stdout",
     "output_type": "stream",
     "text": [
      "90 targets were excluded during evaluation of R2 score.\n",
      " \n"
     ]
    },
    {
     "name": "stderr",
     "output_type": "stream",
     "text": [
      "2024-06-24 21:11:47,762 - ('  Epoch: 3', '  Batch: 2100/2198', '  Train Loss: 0.6061', '  LR: 1.0e-03', '  Time: 0:09:41')\n",
      "2024-06-24 21:12:11,698 - \n",
      "Epoch: 3  Val Loss: 0.5866  R2 score: 0.3481\n",
      "2024-06-24 21:12:11,700 - Validation loss decreased, saving new best model and resetting patience counter.\n"
     ]
    },
    {
     "name": "stdout",
     "output_type": "stream",
     "text": [
      "88 targets were excluded during evaluation of R2 score.\n",
      " \n"
     ]
    },
    {
     "name": "stderr",
     "output_type": "stream",
     "text": [
      "2024-06-24 21:14:48,149 - ('  Epoch: 4', '  Batch: 2100/2198', '  Train Loss: 0.5931', '  LR: 1.0e-03', '  Time: 0:12:42')\n",
      "2024-06-24 21:15:11,892 - \n",
      "Epoch: 4  Val Loss: 0.5759  R2 score: 0.3592\n",
      "2024-06-24 21:15:11,893 - Validation loss decreased, saving new best model and resetting patience counter.\n"
     ]
    },
    {
     "name": "stdout",
     "output_type": "stream",
     "text": [
      "88 targets were excluded during evaluation of R2 score.\n",
      " \n"
     ]
    },
    {
     "name": "stderr",
     "output_type": "stream",
     "text": [
      "2024-06-24 21:17:48,644 - ('  Epoch: 5', '  Batch: 2100/2198', '  Train Loss: 0.5836', '  LR: 1.0e-03', '  Time: 0:15:42')\n",
      "2024-06-24 21:18:20,666 - \n",
      "Epoch: 5  Val Loss: 0.5667  R2 score: 0.3687\n",
      "2024-06-24 21:18:20,668 - Validation loss decreased, saving new best model and resetting patience counter.\n"
     ]
    },
    {
     "name": "stdout",
     "output_type": "stream",
     "text": [
      "89 targets were excluded during evaluation of R2 score.\n",
      " \n"
     ]
    },
    {
     "name": "stderr",
     "output_type": "stream",
     "text": [
      "2024-06-24 21:21:21,513 - ('  Epoch: 6', '  Batch: 2100/2198', '  Train Loss: 0.5760', '  LR: 1.0e-03', '  Time: 0:19:15')\n",
      "2024-06-24 21:21:45,292 - \n",
      "Epoch: 6  Val Loss: 0.5589  R2 score: 0.3789\n",
      "2024-06-24 21:21:45,293 - Validation loss decreased, saving new best model and resetting patience counter.\n"
     ]
    },
    {
     "name": "stdout",
     "output_type": "stream",
     "text": [
      "87 targets were excluded during evaluation of R2 score.\n",
      " \n"
     ]
    },
    {
     "name": "stderr",
     "output_type": "stream",
     "text": [
      "2024-06-24 21:24:21,555 - ('  Epoch: 7', '  Batch: 2100/2198', '  Train Loss: 0.5698', '  LR: 1.0e-03', '  Time: 0:22:15')\n",
      "2024-06-24 21:24:45,375 - \n",
      "Epoch: 7  Val Loss: 0.5529  R2 score: 0.3851\n",
      "2024-06-24 21:24:45,377 - Validation loss decreased, saving new best model and resetting patience counter.\n"
     ]
    },
    {
     "name": "stdout",
     "output_type": "stream",
     "text": [
      "90 targets were excluded during evaluation of R2 score.\n",
      " \n"
     ]
    },
    {
     "name": "stderr",
     "output_type": "stream",
     "text": [
      "2024-06-24 21:27:21,416 - ('  Epoch: 8', '  Batch: 2100/2198', '  Train Loss: 0.5645', '  LR: 1.0e-03', '  Time: 0:25:15')\n",
      "2024-06-24 21:27:45,343 - \n",
      "Epoch: 8  Val Loss: 0.5493  R2 score: 0.3867\n",
      "2024-06-24 21:27:45,344 - Validation loss decreased, saving new best model and resetting patience counter.\n"
     ]
    },
    {
     "name": "stdout",
     "output_type": "stream",
     "text": [
      "90 targets were excluded during evaluation of R2 score.\n",
      " \n"
     ]
    },
    {
     "name": "stderr",
     "output_type": "stream",
     "text": [
      "2024-06-24 21:30:21,615 - ('  Epoch: 9', '  Batch: 2100/2198', '  Train Loss: 0.5602', '  LR: 1.0e-03', '  Time: 0:28:15')\n",
      "2024-06-24 21:30:45,505 - \n",
      "Epoch: 9  Val Loss: 0.5442  R2 score: 0.3949\n",
      "2024-06-24 21:30:45,506 - Validation loss decreased, saving new best model and resetting patience counter.\n"
     ]
    },
    {
     "name": "stdout",
     "output_type": "stream",
     "text": [
      "89 targets were excluded during evaluation of R2 score.\n",
      " \n"
     ]
    },
    {
     "name": "stderr",
     "output_type": "stream",
     "text": [
      "2024-06-24 21:33:29,834 - ('  Epoch: 10', '  Batch: 2100/2198', '  Train Loss: 0.5566', '  LR: 1.0e-03', '  Time: 0:31:23')\n",
      "2024-06-24 21:33:58,180 - \n",
      "Epoch: 10  Val Loss: 0.5409  R2 score: 0.3963\n",
      "2024-06-24 21:33:58,181 - Validation loss decreased, saving new best model and resetting patience counter.\n"
     ]
    },
    {
     "name": "stdout",
     "output_type": "stream",
     "text": [
      "89 targets were excluded during evaluation of R2 score.\n",
      " \n"
     ]
    },
    {
     "name": "stderr",
     "output_type": "stream",
     "text": [
      "2024-06-24 21:37:01,483 - ('  Epoch: 11', '  Batch: 2100/2198', '  Train Loss: 0.5534', '  LR: 1.0e-03', '  Time: 0:34:55')\n",
      "2024-06-24 21:37:29,798 - \n",
      "Epoch: 11  Val Loss: 0.5386  R2 score: 0.3997\n",
      "2024-06-24 21:37:29,799 - Validation loss decreased, saving new best model and resetting patience counter.\n"
     ]
    },
    {
     "name": "stdout",
     "output_type": "stream",
     "text": [
      "89 targets were excluded during evaluation of R2 score.\n",
      " \n"
     ]
    },
    {
     "name": "stderr",
     "output_type": "stream",
     "text": [
      "2024-06-24 21:40:33,046 - ('  Epoch: 12', '  Batch: 2100/2198', '  Train Loss: 0.5506', '  LR: 1.0e-03', '  Time: 0:38:27')\n",
      "2024-06-24 21:41:01,285 - \n",
      "Epoch: 12  Val Loss: 0.5373  R2 score: 0.4013\n",
      "2024-06-24 21:41:01,287 - Validation loss decreased, saving new best model and resetting patience counter.\n"
     ]
    },
    {
     "name": "stdout",
     "output_type": "stream",
     "text": [
      "88 targets were excluded during evaluation of R2 score.\n",
      " \n"
     ]
    },
    {
     "name": "stderr",
     "output_type": "stream",
     "text": [
      "2024-06-24 21:43:51,471 - ('  Epoch: 13', '  Batch: 2100/2198', '  Train Loss: 0.5482', '  LR: 1.0e-03', '  Time: 0:41:45')\n",
      "2024-06-24 21:44:15,137 - \n",
      "Epoch: 13  Val Loss: 0.5335  R2 score: 0.4054\n",
      "2024-06-24 21:44:15,138 - Validation loss decreased, saving new best model and resetting patience counter.\n"
     ]
    },
    {
     "name": "stdout",
     "output_type": "stream",
     "text": [
      "89 targets were excluded during evaluation of R2 score.\n",
      " \n"
     ]
    },
    {
     "name": "stderr",
     "output_type": "stream",
     "text": [
      "2024-06-24 21:46:49,415 - ('  Epoch: 14', '  Batch: 2100/2198', '  Train Loss: 0.5459', '  LR: 1.0e-03', '  Time: 0:44:43')\n",
      "2024-06-24 21:47:12,939 - \n",
      "Epoch: 14  Val Loss: 0.5323  R2 score: 0.4069\n",
      "2024-06-24 21:47:12,941 - Validation loss decreased, saving new best model and resetting patience counter.\n"
     ]
    },
    {
     "name": "stdout",
     "output_type": "stream",
     "text": [
      "90 targets were excluded during evaluation of R2 score.\n",
      " \n"
     ]
    },
    {
     "name": "stderr",
     "output_type": "stream",
     "text": [
      "2024-06-24 21:49:47,252 - ('  Epoch: 15', '  Batch: 2100/2198', '  Train Loss: 0.5440', '  LR: 1.0e-03', '  Time: 0:47:41')\n",
      "2024-06-24 21:50:10,701 - \n",
      "Epoch: 15  Val Loss: 0.5301  R2 score: 0.4093\n",
      "2024-06-24 21:50:10,703 - Validation loss decreased, saving new best model and resetting patience counter.\n"
     ]
    },
    {
     "name": "stdout",
     "output_type": "stream",
     "text": [
      "88 targets were excluded during evaluation of R2 score.\n",
      " \n"
     ]
    },
    {
     "name": "stderr",
     "output_type": "stream",
     "text": [
      "2024-06-24 21:52:45,086 - ('  Epoch: 16', '  Batch: 2100/2198', '  Train Loss: 0.5423', '  LR: 1.0e-03', '  Time: 0:50:39')\n",
      "2024-06-24 21:53:08,416 - \n",
      "Epoch: 16  Val Loss: 0.5281  R2 score: 0.4107\n",
      "2024-06-24 21:53:08,417 - Validation loss decreased, saving new best model and resetting patience counter.\n"
     ]
    },
    {
     "name": "stdout",
     "output_type": "stream",
     "text": [
      "90 targets were excluded during evaluation of R2 score.\n",
      " \n"
     ]
    },
    {
     "name": "stderr",
     "output_type": "stream",
     "text": [
      "2024-06-24 21:55:42,853 - ('  Epoch: 17', '  Batch: 2100/2198', '  Train Loss: 0.5406', '  LR: 1.0e-03', '  Time: 0:53:36')\n",
      "2024-06-24 21:56:06,473 - \n",
      "Epoch: 17  Val Loss: 0.5276  R2 score: 0.4122\n",
      "2024-06-24 21:56:06,474 - Validation loss decreased, saving new best model and resetting patience counter.\n"
     ]
    },
    {
     "name": "stdout",
     "output_type": "stream",
     "text": [
      "87 targets were excluded during evaluation of R2 score.\n",
      " \n"
     ]
    },
    {
     "name": "stderr",
     "output_type": "stream",
     "text": [
      "2024-06-24 21:58:40,727 - ('  Epoch: 18', '  Batch: 2100/2198', '  Train Loss: 0.5392', '  LR: 1.0e-03', '  Time: 0:56:34')\n",
      "2024-06-24 21:59:04,498 - \n",
      "Epoch: 18  Val Loss: 0.5262  R2 score: 0.4116\n",
      "2024-06-24 21:59:04,499 - Validation loss decreased, saving new best model and resetting patience counter.\n"
     ]
    },
    {
     "name": "stdout",
     "output_type": "stream",
     "text": [
      "86 targets were excluded during evaluation of R2 score.\n",
      " \n"
     ]
    },
    {
     "name": "stderr",
     "output_type": "stream",
     "text": [
      "2024-06-24 22:01:38,682 - ('  Epoch: 19', '  Batch: 2100/2198', '  Train Loss: 0.5378', '  LR: 1.0e-03', '  Time: 0:59:32')\n",
      "2024-06-24 22:02:02,300 - \n",
      "Epoch: 19  Val Loss: 0.5247  R2 score: 0.4157\n",
      "2024-06-24 22:02:02,301 - Validation loss decreased, saving new best model and resetting patience counter.\n"
     ]
    },
    {
     "name": "stdout",
     "output_type": "stream",
     "text": [
      "89 targets were excluded during evaluation of R2 score.\n",
      " \n"
     ]
    },
    {
     "name": "stderr",
     "output_type": "stream",
     "text": [
      "2024-06-24 22:04:36,361 - ('  Epoch: 20', '  Batch: 2100/2198', '  Train Loss: 0.5365', '  LR: 1.0e-03', '  Time: 1:02:30')\n",
      "2024-06-24 22:04:59,929 - \n",
      "Epoch: 20  Val Loss: 0.5239  R2 score: 0.4147\n",
      "2024-06-24 22:04:59,930 - Validation loss decreased, saving new best model and resetting patience counter.\n"
     ]
    },
    {
     "name": "stdout",
     "output_type": "stream",
     "text": [
      "89 targets were excluded during evaluation of R2 score.\n",
      " \n"
     ]
    },
    {
     "name": "stderr",
     "output_type": "stream",
     "text": [
      "2024-06-24 22:07:34,124 - ('  Epoch: 21', '  Batch: 2100/2198', '  Train Loss: 0.5355', '  LR: 1.0e-03', '  Time: 1:05:28')\n",
      "2024-06-24 22:07:57,816 - \n",
      "Epoch: 21  Val Loss: 0.5230  R2 score: 0.4181\n",
      "2024-06-24 22:07:57,817 - Validation loss decreased, saving new best model and resetting patience counter.\n"
     ]
    },
    {
     "name": "stdout",
     "output_type": "stream",
     "text": [
      "88 targets were excluded during evaluation of R2 score.\n",
      " \n"
     ]
    },
    {
     "name": "stderr",
     "output_type": "stream",
     "text": [
      "2024-06-24 22:10:31,787 - ('  Epoch: 22', '  Batch: 2100/2198', '  Train Loss: 0.5344', '  LR: 1.0e-03', '  Time: 1:08:25')\n",
      "2024-06-24 22:10:55,353 - \n",
      "Epoch: 22  Val Loss: 0.5222  R2 score: 0.4183\n",
      "2024-06-24 22:10:55,354 - Validation loss decreased, saving new best model and resetting patience counter.\n"
     ]
    },
    {
     "name": "stdout",
     "output_type": "stream",
     "text": [
      "88 targets were excluded during evaluation of R2 score.\n",
      " \n"
     ]
    },
    {
     "name": "stderr",
     "output_type": "stream",
     "text": [
      "2024-06-24 22:13:29,485 - ('  Epoch: 23', '  Batch: 2100/2198', '  Train Loss: 0.5333', '  LR: 1.0e-03', '  Time: 1:11:23')\n",
      "2024-06-24 22:13:52,887 - \n",
      "Epoch: 23  Val Loss: 0.5211  R2 score: 0.4189\n",
      "2024-06-24 22:13:52,888 - Validation loss decreased, saving new best model and resetting patience counter.\n"
     ]
    },
    {
     "name": "stdout",
     "output_type": "stream",
     "text": [
      "89 targets were excluded during evaluation of R2 score.\n",
      " \n"
     ]
    },
    {
     "name": "stderr",
     "output_type": "stream",
     "text": [
      "2024-06-24 22:16:39,665 - ('  Epoch: 24', '  Batch: 2100/2198', '  Train Loss: 0.5324', '  LR: 1.0e-03', '  Time: 1:14:33')\n",
      "2024-06-24 22:17:03,286 - \n",
      "Epoch: 24  Val Loss: 0.5210  R2 score: 0.4196\n",
      "2024-06-24 22:17:03,287 - Validation loss decreased, saving new best model and resetting patience counter.\n"
     ]
    },
    {
     "name": "stdout",
     "output_type": "stream",
     "text": [
      "90 targets were excluded during evaluation of R2 score.\n",
      " \n"
     ]
    },
    {
     "name": "stderr",
     "output_type": "stream",
     "text": [
      "2024-06-24 22:19:37,067 - ('  Epoch: 25', '  Batch: 2100/2198', '  Train Loss: 0.5315', '  LR: 1.0e-03', '  Time: 1:17:31')\n",
      "2024-06-24 22:20:00,657 - \n",
      "Epoch: 25  Val Loss: 0.5215  R2 score: 0.4197\n",
      "2024-06-24 22:20:00,658 - No improvement in validation loss for 1 epochs.\n"
     ]
    },
    {
     "name": "stdout",
     "output_type": "stream",
     "text": [
      "89 targets were excluded during evaluation of R2 score.\n",
      " \n"
     ]
    },
    {
     "name": "stderr",
     "output_type": "stream",
     "text": [
      "2024-06-24 22:22:34,383 - ('  Epoch: 26', '  Batch: 2100/2198', '  Train Loss: 0.5308', '  LR: 1.0e-03', '  Time: 1:20:28')\n",
      "2024-06-24 22:23:01,879 - \n",
      "Epoch: 26  Val Loss: 0.5195  R2 score: 0.4203\n",
      "2024-06-24 22:23:01,880 - Validation loss decreased, saving new best model and resetting patience counter.\n"
     ]
    },
    {
     "name": "stdout",
     "output_type": "stream",
     "text": [
      "90 targets were excluded during evaluation of R2 score.\n",
      " \n"
     ]
    },
    {
     "name": "stderr",
     "output_type": "stream",
     "text": [
      "2024-06-24 22:26:02,499 - ('  Epoch: 27', '  Batch: 2100/2198', '  Train Loss: 0.5299', '  LR: 1.0e-03', '  Time: 1:23:56')\n",
      "2024-06-24 22:26:30,299 - \n",
      "Epoch: 27  Val Loss: 0.5184  R2 score: 0.4234\n",
      "2024-06-24 22:26:30,300 - Validation loss decreased, saving new best model and resetting patience counter.\n"
     ]
    },
    {
     "name": "stdout",
     "output_type": "stream",
     "text": [
      "90 targets were excluded during evaluation of R2 score.\n",
      " \n"
     ]
    },
    {
     "name": "stderr",
     "output_type": "stream",
     "text": [
      "2024-06-24 22:29:30,967 - ('  Epoch: 28', '  Batch: 2100/2198', '  Train Loss: 0.5293', '  LR: 1.0e-03', '  Time: 1:27:25')\n",
      "2024-06-24 22:29:58,669 - \n",
      "Epoch: 28  Val Loss: 0.5185  R2 score: 0.4225\n",
      "2024-06-24 22:29:58,670 - No improvement in validation loss for 1 epochs.\n"
     ]
    },
    {
     "name": "stdout",
     "output_type": "stream",
     "text": [
      "89 targets were excluded during evaluation of R2 score.\n",
      " \n"
     ]
    },
    {
     "name": "stderr",
     "output_type": "stream",
     "text": [
      "2024-06-24 22:32:59,186 - ('  Epoch: 29', '  Batch: 2100/2198', '  Train Loss: 0.5285', '  LR: 1.0e-03', '  Time: 1:30:53')\n",
      "2024-06-24 22:33:27,067 - \n",
      "Epoch: 29  Val Loss: 0.5177  R2 score: 0.4226\n",
      "2024-06-24 22:33:27,069 - Validation loss decreased, saving new best model and resetting patience counter.\n"
     ]
    },
    {
     "name": "stdout",
     "output_type": "stream",
     "text": [
      "86 targets were excluded during evaluation of R2 score.\n",
      " \n"
     ]
    },
    {
     "name": "stderr",
     "output_type": "stream",
     "text": [
      "2024-06-24 22:36:27,576 - ('  Epoch: 30', '  Batch: 2100/2198', '  Train Loss: 0.5279', '  LR: 1.0e-03', '  Time: 1:34:21')\n",
      "2024-06-24 22:36:55,440 - \n",
      "Epoch: 30  Val Loss: 0.5169  R2 score: 0.4234\n",
      "2024-06-24 22:36:55,442 - Validation loss decreased, saving new best model and resetting patience counter.\n"
     ]
    },
    {
     "name": "stdout",
     "output_type": "stream",
     "text": [
      "88 targets were excluded during evaluation of R2 score.\n",
      " \n"
     ]
    },
    {
     "name": "stderr",
     "output_type": "stream",
     "text": [
      "2024-06-24 22:39:55,954 - ('  Epoch: 31', '  Batch: 2100/2198', '  Train Loss: 0.5274', '  LR: 1.0e-03', '  Time: 1:37:50')\n",
      "2024-06-24 22:40:23,704 - \n",
      "Epoch: 31  Val Loss: 0.5173  R2 score: 0.4236\n",
      "2024-06-24 22:40:23,705 - No improvement in validation loss for 1 epochs.\n"
     ]
    },
    {
     "name": "stdout",
     "output_type": "stream",
     "text": [
      "87 targets were excluded during evaluation of R2 score.\n",
      " \n"
     ]
    },
    {
     "name": "stderr",
     "output_type": "stream",
     "text": [
      "2024-06-24 22:43:24,312 - ('  Epoch: 32', '  Batch: 2100/2198', '  Train Loss: 0.5267', '  LR: 1.0e-03', '  Time: 1:41:18')\n",
      "2024-06-24 22:43:52,027 - \n",
      "Epoch: 32  Val Loss: 0.5167  R2 score: 0.4247\n",
      "2024-06-24 22:43:52,028 - Validation loss decreased, saving new best model and resetting patience counter.\n"
     ]
    },
    {
     "name": "stdout",
     "output_type": "stream",
     "text": [
      "89 targets were excluded during evaluation of R2 score.\n",
      " \n"
     ]
    },
    {
     "name": "stderr",
     "output_type": "stream",
     "text": [
      "2024-06-24 22:46:52,716 - ('  Epoch: 33', '  Batch: 2100/2198', '  Train Loss: 0.5261', '  LR: 1.0e-03', '  Time: 1:44:46')\n",
      "2024-06-24 22:47:20,583 - \n",
      "Epoch: 33  Val Loss: 0.5167  R2 score: 0.4242\n",
      "2024-06-24 22:47:20,583 - No improvement in validation loss for 1 epochs.\n"
     ]
    },
    {
     "name": "stdout",
     "output_type": "stream",
     "text": [
      "86 targets were excluded during evaluation of R2 score.\n",
      " \n"
     ]
    },
    {
     "name": "stderr",
     "output_type": "stream",
     "text": [
      "2024-06-24 22:50:21,017 - ('  Epoch: 34', '  Batch: 2100/2198', '  Train Loss: 0.5256', '  LR: 1.0e-03', '  Time: 1:48:15')\n",
      "2024-06-24 22:50:49,048 - \n",
      "Epoch: 34  Val Loss: 0.5155  R2 score: 0.4233\n",
      "2024-06-24 22:50:49,049 - Validation loss decreased, saving new best model and resetting patience counter.\n"
     ]
    },
    {
     "name": "stdout",
     "output_type": "stream",
     "text": [
      "89 targets were excluded during evaluation of R2 score.\n",
      " \n"
     ]
    },
    {
     "name": "stderr",
     "output_type": "stream",
     "text": [
      "2024-06-24 22:53:49,414 - ('  Epoch: 35', '  Batch: 2100/2198', '  Train Loss: 0.5251', '  LR: 1.0e-03', '  Time: 1:51:43')\n",
      "2024-06-24 22:54:17,463 - \n",
      "Epoch: 35  Val Loss: 0.5156  R2 score: 0.4241\n",
      "2024-06-24 22:54:17,464 - No improvement in validation loss for 1 epochs.\n"
     ]
    },
    {
     "name": "stdout",
     "output_type": "stream",
     "text": [
      "88 targets were excluded during evaluation of R2 score.\n",
      " \n"
     ]
    },
    {
     "name": "stderr",
     "output_type": "stream",
     "text": [
      "2024-06-24 22:57:17,829 - ('  Epoch: 36', '  Batch: 2100/2198', '  Train Loss: 0.5246', '  LR: 1.0e-03', '  Time: 1:55:11')\n",
      "2024-06-24 22:57:45,798 - \n",
      "Epoch: 36  Val Loss: 0.5155  R2 score: 0.4257\n",
      "2024-06-24 22:57:45,799 - Validation loss decreased, saving new best model and resetting patience counter.\n"
     ]
    },
    {
     "name": "stdout",
     "output_type": "stream",
     "text": [
      "88 targets were excluded during evaluation of R2 score.\n",
      " \n"
     ]
    },
    {
     "name": "stderr",
     "output_type": "stream",
     "text": [
      "2024-06-24 23:00:46,358 - ('  Epoch: 37', '  Batch: 2100/2198', '  Train Loss: 0.5242', '  LR: 1.0e-03', '  Time: 1:58:40')\n",
      "2024-06-24 23:01:14,051 - \n",
      "Epoch: 37  Val Loss: 0.5150  R2 score: 0.4270\n",
      "2024-06-24 23:01:14,053 - Validation loss decreased, saving new best model and resetting patience counter.\n"
     ]
    },
    {
     "name": "stdout",
     "output_type": "stream",
     "text": [
      "89 targets were excluded during evaluation of R2 score.\n",
      " \n"
     ]
    },
    {
     "name": "stderr",
     "output_type": "stream",
     "text": [
      "2024-06-24 23:04:14,295 - ('  Epoch: 38', '  Batch: 2100/2198', '  Train Loss: 0.5238', '  LR: 1.0e-03', '  Time: 2:02:08')\n",
      "2024-06-24 23:04:37,730 - \n",
      "Epoch: 38  Val Loss: 0.5147  R2 score: 0.4245\n",
      "2024-06-24 23:04:37,731 - Validation loss decreased, saving new best model and resetting patience counter.\n"
     ]
    },
    {
     "name": "stdout",
     "output_type": "stream",
     "text": [
      "89 targets were excluded during evaluation of R2 score.\n",
      " \n"
     ]
    }
   ],
   "source": [
    "if __name__ == \"__main__\":\n",
    "    activate_kaggle_user('limkim')\n",
    "    parser = argparse.ArgumentParser(description='Main script for training the model.')\n",
    "    parser.add_argument('--config', type=str, default='hyper.yaml', help='Path to the config file..')\n",
    "    args, unknown = parser.parse_known_args()\n",
    "\n",
    "    config = load_config(args.config)\n",
    "    setup_logging('training.log')\n",
    "    \n",
    "    logging.info(\"-----------------------------------------------------------------------------\")\n",
    "    logging.info(f\"Hyperparameters:\")\n",
    "    log_hyperparameters(config)\n",
    "\n",
    "    ts = time.time()\n",
    "    \n",
    "    x_train, y_train, FEAT_COLS, TARGET_COLS = load_train(ts) \n",
    "    x_train, y_train, mx, sx, my, sy = normalization(x_train, y_train) # x_train:[_, 556(feat_cols)], y_train:[_, 368(target_cols)]\n",
    "    \n",
    "    seed_everything()\n",
    "    device = torch.device(\"cuda:0\" if torch.cuda.is_available() else \"cpu\")\n",
    "    print(\"am i using gpu? :\", device)\n",
    "\n",
    "    if not os.path.exists(config['MODEL_PATH']):\n",
    "        train_model(config, x_train, y_train, FEAT_COLS, TARGET_COLS, device, ts)\n",
    "        test_model(config, mx, sx, my, sy, FEAT_COLS, TARGET_COLS, device)\n",
    "    else:\n",
    "        test_model(config, mx, sx, my, sy, FEAT_COLS, TARGET_COLS, device)\n"
   ]
  },
  {
   "cell_type": "code",
   "execution_count": null,
   "metadata": {},
   "outputs": [
    {
     "name": "stderr",
     "output_type": "stream",
     "text": [
      "100%|██████████| 75.0M/75.0M [00:07<00:00, 10.3MB/s]\n"
     ]
    },
    {
     "name": "stdout",
     "output_type": "stream",
     "text": [
      "Successfully submitted to LEAP - Atmospheric Physics using AI (ClimSim)"
     ]
    },
    {
     "data": {
      "text/plain": [
       "0"
      ]
     },
     "execution_count": 4,
     "metadata": {},
     "output_type": "execute_result"
    }
   ],
   "source": [
    "model_path = config[\"MODEL_PATH\"]\n",
    "csv_path = model_path.replace('.pth', '.csv')\n",
    "\n",
    "command = f'kaggle competitions submit -c leap-atmospheric-physics-ai-climsim -f {csv_path} -m \"{config[\"MODEL_PATH\"]}\"'\n",
    "\n",
    "os.system(command)"
   ]
  },
  {
   "cell_type": "code",
   "execution_count": null,
   "metadata": {},
   "outputs": [],
   "source": []
  }
 ],
 "metadata": {
  "kernelspec": {
   "display_name": "LEAP_dchong",
   "language": "python",
   "name": "python3"
  },
  "language_info": {
   "codemirror_mode": {
    "name": "ipython",
    "version": 3
   },
   "file_extension": ".py",
   "mimetype": "text/x-python",
   "name": "python",
   "nbconvert_exporter": "python",
   "pygments_lexer": "ipython3",
   "version": "3.8.19"
  }
 },
 "nbformat": 4,
 "nbformat_minor": 2
}
