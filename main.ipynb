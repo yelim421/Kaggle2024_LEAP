{
 "cells": [
  {
   "cell_type": "code",
   "execution_count": 1,
   "metadata": {},
   "outputs": [],
   "source": [
    "import gc\n",
    "import time\n",
    "import pandas as pd\n",
    "import polars as pl\n",
    "import numpy as np\n",
    "import argparse\n",
    "import logging\n",
    "import torch\n",
    "from torch.utils.data import DataLoader\n",
    "import os\n",
    "\n",
    "from utils_copy import load_config, setup_logging, log_hyperparameters, format_time, seed_everything, activate_kaggle_user # dont touch\n",
    "from load_data import load_train, normalization, NumpyDataset\n",
    "from model import FFNN\n",
    "from loss import LpLoss\n",
    "from train import train_model\n",
    "from test_new import test_model"
   ]
  },
  {
   "cell_type": "code",
   "execution_count": 2,
   "metadata": {},
   "outputs": [
    {
     "name": "stderr",
     "output_type": "stream",
     "text": [
      "2024-06-24 17:20:13,078 - -----------------------------------------------------------------------------\n",
      "2024-06-24 17:20:13,078 - Hyperparameters:\n",
      "2024-06-24 17:20:13,079 - BATCH_SIZE: 1024\n",
      "2024-06-24 17:20:13,079 - MIN_STD: 1e-8\n",
      "2024-06-24 17:20:13,079 - SCHEDULER_PATIENCE: 3\n",
      "2024-06-24 17:20:13,080 - SCHEDULER_FACTOR: 0.316\n",
      "2024-06-24 17:20:13,080 - EPOCHS: 10\n",
      "2024-06-24 17:20:13,080 - PATIENCE: 6\n",
      "2024-06-24 17:20:13,081 - PRINT_FREQ: 50\n",
      "2024-06-24 17:20:13,081 - MODEL_PATH: best_model.pth\n",
      "2024-06-24 17:20:13,082 - LEARNING_RATE: 0.001\n",
      "2024-06-24 17:20:13,082 - WEIGHT_DECAY: 0.01\n"
     ]
    },
    {
     "name": "stdout",
     "output_type": "stream",
     "text": [
      "Activated Kaggle user: limkim\n",
      "time to read dataset: 0:00:15\n",
      "am i using gpu? : cuda:0\n",
      "Submission file best_model.csv created.\n"
     ]
    }
   ],
   "source": [
    "if __name__ == \"__main__\":\n",
    "    activate_kaggle_user('limkim')\n",
    "    parser = argparse.ArgumentParser(description='Main script for training the model.')\n",
    "    parser.add_argument('--config', type=str, default='hyper.yaml', help='Path to the config file..')\n",
    "    args, unknown = parser.parse_known_args()\n",
    "\n",
    "    config = load_config(args.config)\n",
    "    setup_logging('training.log')\n",
    "    \n",
    "    logging.info(\"-----------------------------------------------------------------------------\")\n",
    "    logging.info(f\"Hyperparameters:\")\n",
    "    log_hyperparameters(config)\n",
    "\n",
    "    ts = time.time()\n",
    "    \n",
    "    x_train, y_train, FEAT_COLS, TARGET_COLS = load_train(ts) \n",
    "    x_train, y_train, mx, sx, my, sy = normalization(x_train, y_train) # x_train:[_, 556(feat_cols)], y_train:[_, 368(target_cols)]\n",
    "    \n",
    "    seed_everything()\n",
    "    device = torch.device(\"cuda:0\" if torch.cuda.is_available() else \"cpu\")\n",
    "    print(\"am i using gpu? :\", device)\n",
    "\n",
    "    if not os.path.exists(config['MODEL_PATH']):\n",
    "        train_model(config, x_train, y_train, FEAT_COLS, TARGET_COLS, device, ts)\n",
    "        test_model(config, mx, sx, my, sy, FEAT_COLS, TARGET_COLS, device)\n",
    "    else:\n",
    "        test_model(config, mx, sx, my, sy, FEAT_COLS, TARGET_COLS, device)\n"
   ]
  },
  {
   "cell_type": "code",
   "execution_count": 3,
   "metadata": {},
   "outputs": [
    {
     "name": "stdout",
     "output_type": "stream",
     "text": [
      "100%|██████████████████████████████████████| 4.08G/4.08G [03:04<00:00, 23.7MB/s]\n",
      "Successfully submitted to LEAP - Atmospheric Physics using AI (ClimSim)"
     ]
    }
   ],
   "source": [
    "!kaggle competitions submit -c leap-atmospheric-physics-ai-climsim -f best_model.csv -m \"Message\""
   ]
  },
  {
   "cell_type": "code",
   "execution_count": null,
   "metadata": {},
   "outputs": [],
   "source": []
  }
 ],
 "metadata": {
  "kernelspec": {
   "display_name": "LEAP_dchong",
   "language": "python",
   "name": "python3"
  },
  "language_info": {
   "codemirror_mode": {
    "name": "ipython",
    "version": 3
   },
   "file_extension": ".py",
   "mimetype": "text/x-python",
   "name": "python",
   "nbconvert_exporter": "python",
   "pygments_lexer": "ipython3",
   "version": "3.8.19"
  }
 },
 "nbformat": 4,
 "nbformat_minor": 2
}
